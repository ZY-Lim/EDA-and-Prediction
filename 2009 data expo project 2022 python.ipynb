{
 "cells": [
  {
   "cell_type": "markdown",
   "id": "59bc9f47",
   "metadata": {},
   "source": [
    "# 2009 data expo project 2022"
   ]
  },
  {
   "cell_type": "markdown",
   "id": "70d19e7a",
   "metadata": {},
   "source": [
    "Year 2004 and 2005 will be used for python"
   ]
  },
  {
   "cell_type": "code",
   "execution_count": 2,
   "id": "432a71b1",
   "metadata": {},
   "outputs": [],
   "source": [
    "import pandas as pd\n",
    "import numpy as np\n",
    "import matplotlib.pyplot as plt\n",
    "import seaborn as sns\n",
    "import calplot"
   ]
  },
  {
   "cell_type": "markdown",
   "id": "46eeed04",
   "metadata": {},
   "source": [
    "Read in data"
   ]
  },
  {
   "cell_type": "code",
   "execution_count": null,
   "id": "f83d3291",
   "metadata": {},
   "outputs": [],
   "source": [
    "dataset = pd.read_csv (r'C:\\Users\\limzy\\dataverse files 0405\\2004.csv')"
   ]
  },
  {
   "cell_type": "markdown",
   "id": "a22a4bab",
   "metadata": {},
   "source": [
    "### **DATA WRANGLING**"
   ]
  },
  {
   "cell_type": "code",
   "execution_count": null,
   "id": "5b21ac5a",
   "metadata": {
    "scrolled": false
   },
   "outputs": [],
   "source": [
    "dataset.head"
   ]
  },
  {
   "cell_type": "code",
   "execution_count": null,
   "id": "fa1f9879",
   "metadata": {},
   "outputs": [],
   "source": [
    "drop_columns=['ActualElapsedTime','CRSElapsedTime', 'TaxiIn', 'TaxiOut','CancellationCode','Diverted',\n",
    "                'CarrierDelay', 'WeatherDelay', 'NASDelay', 'SecurityDelay', 'LateAircraftDelay']"
   ]
  },
  {
   "cell_type": "code",
   "execution_count": null,
   "id": "071864b7",
   "metadata": {},
   "outputs": [],
   "source": [
    "dataset.drop(columns=drop_columns,inplace=True)"
   ]
  },
  {
   "cell_type": "markdown",
   "id": "268e61d3",
   "metadata": {},
   "source": [
    "Changing year,month,dayofmonth to datetime64"
   ]
  },
  {
   "cell_type": "code",
   "execution_count": null,
   "id": "013192e2",
   "metadata": {
    "scrolled": true
   },
   "outputs": [],
   "source": [
    "dataset['dateInt']=dataset['Year'].astype(str) + dataset['Month'].astype(str).str.zfill(2) + dataset['DayofMonth'].astype(str).str.zfill(2)\n",
    "\n",
    "dataset['Date'] = pd.to_datetime(dataset['dateInt'], format='%Y%m%d')\n",
    "\n",
    "drop_columns=['Year','dateInt']\n",
    "\n",
    "dataset.drop(columns=drop_columns,inplace=True)"
   ]
  },
  {
   "cell_type": "markdown",
   "id": "59fc7cf2",
   "metadata": {},
   "source": [
    "Filling Nan Values for aircrafts missing a flight number"
   ]
  },
  {
   "cell_type": "code",
   "execution_count": null,
   "id": "a2db2f78",
   "metadata": {},
   "outputs": [],
   "source": [
    "dataset.TailNum.fillna('unidefined',inplace=True)"
   ]
  },
  {
   "cell_type": "markdown",
   "id": "671407b3",
   "metadata": {},
   "source": [
    "Moving Date column to the front"
   ]
  },
  {
   "cell_type": "code",
   "execution_count": null,
   "id": "e296ca10",
   "metadata": {},
   "outputs": [],
   "source": [
    "col_name=\"Date\"\n",
    "first_col = dataset.pop(col_name)\n",
    "dataset.insert(0, col_name, first_col)"
   ]
  },
  {
   "cell_type": "markdown",
   "id": "1d413efb",
   "metadata": {},
   "source": [
    "Removing the entries with nan in ArrTime and Arrdelay variables"
   ]
  },
  {
   "cell_type": "code",
   "execution_count": null,
   "id": "f8365323",
   "metadata": {},
   "outputs": [],
   "source": [
    "dataset.dropna(inplace=True)\n",
    "dataset.isna().sum() # Zero nan present"
   ]
  },
  {
   "cell_type": "markdown",
   "id": "10cab1fd",
   "metadata": {},
   "source": [
    "Changing to int"
   ]
  },
  {
   "cell_type": "code",
   "execution_count": null,
   "id": "ac15ae66",
   "metadata": {},
   "outputs": [],
   "source": [
    "dataset['ArrTime'] = dataset['ArrTime'].astype(np.int64)\n",
    "dataset['DepTime'] = dataset['DepTime'].astype(np.int64)\n",
    "dataset['ArrDelay'] = dataset['ArrDelay'].astype(np.int64)\n",
    "dataset['DepDelay'] = dataset['DepDelay'].astype(np.int64)\n",
    "\n",
    "dataset[['DepTime', 'ArrTime']].describe() # DepTime max: 2750, ArrTime max: 2955"
   ]
  },
  {
   "cell_type": "markdown",
   "id": "487d0ef8",
   "metadata": {},
   "source": [
    "Max of DepTime and ArrTime can only be 2400 therefore to treat this,\n",
    "I will set the limit of time to 2400 and anything after will be nan"
   ]
  },
  {
   "cell_type": "code",
   "execution_count": null,
   "id": "ed166a9d",
   "metadata": {},
   "outputs": [],
   "source": [
    "dataset.DepTime.mask((dataset.DepTime >= 2400) & (dataset.DepTime <= 3000), inplace=True)\n",
    "dataset.ArrTime.mask((dataset.ArrTime >= 2400) & (dataset.ArrTime <= 3000), inplace=True)"
   ]
  },
  {
   "cell_type": "markdown",
   "id": "d0c6ba03",
   "metadata": {},
   "source": [
    "Removing the entries with nan in ArrTime and DepTime variables"
   ]
  },
  {
   "cell_type": "code",
   "execution_count": null,
   "id": "12942201",
   "metadata": {},
   "outputs": [],
   "source": [
    "dataset.dropna(inplace=True)\n",
    "dataset.isna().sum() # Zero nan present"
   ]
  },
  {
   "cell_type": "markdown",
   "id": "f9e5a8ac",
   "metadata": {},
   "source": [
    "### Detection and treatment of Outliers – IQR approach"
   ]
  },
  {
   "cell_type": "code",
   "execution_count": null,
   "id": "9dcc2b98",
   "metadata": {},
   "outputs": [],
   "source": [
    "dataset[['ArrDelay'\t,'DepDelay']].describe()\n",
    "\n",
    "for x in ['ArrDelay']:\n",
    "    q75,q25 = np.percentile(dataset.loc[:,x],[75,25])\n",
    "    intr_qr = q75-q25\n",
    " \n",
    "    max = q75+(1.5*intr_qr)\n",
    "    min = q25-(1.5*intr_qr)\n",
    " \n",
    "    dataset.loc[dataset[x] < min,x] = np.nan\n",
    "    dataset.loc[dataset[x] > max,x] = np.nan\n",
    "    \n",
    "for x in ['DepDelay']:\n",
    "    q75,q25 = np.percentile(dataset.loc[:,x],[75,25])\n",
    "    intr_qr = q75-q25\n",
    " \n",
    "    max = q75+(1.5*intr_qr)\n",
    "    min = q25-(1.5*intr_qr)\n",
    " \n",
    "    dataset.loc[dataset[x] < min,x] = np.nan\n",
    "    dataset.loc[dataset[x] > max,x] = np.nan\n",
    "\n",
    "dataset.dropna(inplace=True)\n",
    "dataset.isna().sum() # Zero nan present"
   ]
  },
  {
   "cell_type": "markdown",
   "id": "533c4ba3",
   "metadata": {},
   "source": [
    "Insert departure and arrival status"
   ]
  },
  {
   "cell_type": "code",
   "execution_count": null,
   "id": "9db00da8",
   "metadata": {},
   "outputs": [],
   "source": [
    "dep_conditions = [(dataset.DepDelay < 0),\n",
    "                  (dataset.DepDelay == 0),\n",
    "                  (dataset.DepDelay > 0)]\n",
    "dep_values=['Early Departure','On Time','Late Departure']        \n",
    "dataset['DepStatus']=np.select(dep_conditions,dep_values)\n",
    "\n",
    "arr_conditions = [(dataset.ArrDelay < 0),\n",
    "                  (dataset.ArrDelay == 0),\n",
    "                  (dataset.ArrDelay > 0)]\n",
    "arr_values=['Early Arrival','On Time','Late Arrival']        \n",
    "dataset['ArrStatus']=np.select(arr_conditions,arr_values)"
   ]
  },
  {
   "cell_type": "code",
   "execution_count": null,
   "id": "efa012a8",
   "metadata": {},
   "outputs": [],
   "source": [
    "del dep_conditions\n",
    "del arr_conditions\n",
    "del arr_values\n",
    "del dep_values\n",
    "del intr_qr\n",
    "del max\n",
    "del min\n",
    "del q25\n",
    "del q75\n",
    "del x\n",
    "del col_name\n",
    "del first_col"
   ]
  },
  {
   "cell_type": "markdown",
   "id": "48b1d689",
   "metadata": {},
   "source": [
    "## **QUESTION 1**"
   ]
  },
  {
   "cell_type": "markdown",
   "id": "2725024f",
   "metadata": {},
   "source": [
    "Dataframe for average daily flight delay for 2004"
   ]
  },
  {
   "cell_type": "code",
   "execution_count": null,
   "id": "2f15331a",
   "metadata": {},
   "outputs": [],
   "source": [
    "flights_delayed = dataset[['Date','ArrDelay']].copy()"
   ]
  },
  {
   "cell_type": "markdown",
   "id": "0c7ab256",
   "metadata": {},
   "source": [
    "Finding the average daily flight delay for 2004"
   ]
  },
  {
   "cell_type": "code",
   "execution_count": null,
   "id": "d1e1d66d",
   "metadata": {},
   "outputs": [],
   "source": [
    "meandelay2004 = flights_delayed.groupby(pd.Grouper(key='Date', axis=0, \n",
    "                      freq='D', sort=True)).mean()\n",
    "\n",
    "meandelay2004['ArrDelay'] = pd.to_numeric(pd.to_datetime(meandelay2004['ArrDelay']))"
   ]
  },
  {
   "cell_type": "markdown",
   "id": "c68940c4",
   "metadata": {},
   "source": [
    "Plot Heatmap"
   ]
  },
  {
   "cell_type": "code",
   "execution_count": null,
   "id": "476556d3",
   "metadata": {},
   "outputs": [],
   "source": [
    "calplot.calplot(meandelay2004[\"ArrDelay\"],linewidth=2.3,\n",
    "cmap='coolwarm', suptitle=('Average daily flight delay'))"
   ]
  },
  {
   "cell_type": "markdown",
   "id": "9ca01ed4",
   "metadata": {},
   "source": [
    "Resetting index as groupby function made 'Dates' into index"
   ]
  },
  {
   "cell_type": "code",
   "execution_count": null,
   "id": "94abfef7",
   "metadata": {},
   "outputs": [],
   "source": [
    "meandelay2004 = meandelay2004.reset_index()"
   ]
  },
  {
   "cell_type": "markdown",
   "id": "dc280a98",
   "metadata": {},
   "source": [
    "Finding the mean of the monthly delays"
   ]
  },
  {
   "cell_type": "code",
   "execution_count": null,
   "id": "a963d18c",
   "metadata": {},
   "outputs": [],
   "source": [
    "monthlydelay = dataset[['Date','ArrDelay']].copy()\n",
    "monthlydelay = monthlydelay.set_index('Date')\n",
    "monthlydelay = monthlydelay.groupby(pd.Grouper(freq='M')).mean()\n",
    "\n",
    "# Declare a month name list that is to be converted into a column\n",
    "months = [ 'Jan', 'Feb', 'Mar', 'Apr', 'May', 'Jun', 'Jul', 'Aug', 'Sep', 'Oct', 'Nov', 'Dec']\n",
    "\n",
    "# Using 'Months' as the column name\n",
    "# and equating it to the dataframe\n",
    "monthlydelay['Months'] = months"
   ]
  },
  {
   "cell_type": "markdown",
   "id": "114fd457",
   "metadata": {},
   "source": [
    "Bar plot for monthly mean delay"
   ]
  },
  {
   "cell_type": "code",
   "execution_count": null,
   "id": "c5388a57",
   "metadata": {},
   "outputs": [],
   "source": [
    "monthlydelay.plot.bar(x=\"Months\", y=\"ArrDelay\", rot=70, title=\"Monthly Average of flight delay (in Mins) - Year 2004\")"
   ]
  },
  {
   "cell_type": "markdown",
   "id": "dfd136a7",
   "metadata": {},
   "source": [
    "Sep - lowest average flight delay. Filter Sep"
   ]
  },
  {
   "cell_type": "code",
   "execution_count": null,
   "id": "9e8b8ce4",
   "metadata": {},
   "outputs": [],
   "source": [
    "Sep_Delay = meandelay2004.loc[(meandelay2004['Date'] >= '2004-09-01')\n",
    "                     & (meandelay2004['Date'] < '2004-09-30')]\n",
    "\n",
    "# Add days inside\n",
    "Sep_Delay['Day'] = Sep_Delay.Date.dt.strftime(\"%A\")"
   ]
  },
  {
   "cell_type": "markdown",
   "id": "26085578",
   "metadata": {},
   "source": [
    "Plot bar"
   ]
  },
  {
   "cell_type": "code",
   "execution_count": null,
   "id": "eb5ef3aa",
   "metadata": {},
   "outputs": [],
   "source": [
    "Sep_Delay.plot.bar(x=\"Day\", y=\"ArrDelay\", rot=70, title=\"Sep Average of flight delay (in Mins) - Year 2004\")"
   ]
  },
  {
   "cell_type": "markdown",
   "id": "3c3d2f06",
   "metadata": {},
   "source": [
    "SEP 5 lowest average delay of month. Filter for Sep 5"
   ]
  },
  {
   "cell_type": "code",
   "execution_count": null,
   "id": "a1cc99f1",
   "metadata": {},
   "outputs": [],
   "source": [
    "Sep_5 = dataset.loc[(dataset['Date'] == '2004-09-05')]\n",
    "\n",
    "drop_columns=['Date','Month','DayOfWeek','ArrTime','UniqueCarrier','FlightNum','TailNum','DepDelay','Cancelled']\n",
    "\n",
    "Sep_5.drop(columns=drop_columns,inplace=True)\n",
    "\n",
    "Sep_5 = Sep_5.sort_values(by=['DepTime'])"
   ]
  },
  {
   "cell_type": "markdown",
   "id": "70a6a410",
   "metadata": {},
   "source": [
    "Classifying time of the day"
   ]
  },
  {
   "cell_type": "code",
   "execution_count": null,
   "id": "a3cb5aa9",
   "metadata": {},
   "outputs": [],
   "source": [
    "def classify(x):\n",
    "    if 0 <= x < 1200:\n",
    "        y = \"Morning\"\n",
    "    if 1200 <= x < 1800:\n",
    "        y = \"Afternoon\"\n",
    "    if 1800 <= x < 2400:\n",
    "        y = \"Evening\"\n",
    "    return y\n",
    "\n",
    "Sep_5['TimeOfDay'] = Sep_5['DepTime'].apply(lambda x: classify(x))"
   ]
  },
  {
   "cell_type": "code",
   "execution_count": null,
   "id": "ce50e46a",
   "metadata": {},
   "outputs": [],
   "source": [
    "drop_columns=['DepTime']\n",
    "Sep_5.drop(columns=drop_columns,inplace=True)\n",
    "\n",
    "# Grouping values together according to time of the day and find the sum of the delay\n",
    "Sep_5 = Sep_5.groupby(['TimeOfDay']).sum()     # -52263, -53390, -23822\n",
    "# Negative delay indicates early arrival"
   ]
  },
  {
   "cell_type": "markdown",
   "id": "e7c17f14",
   "metadata": {},
   "source": [
    "Pie chart plot"
   ]
  },
  {
   "cell_type": "code",
   "execution_count": null,
   "id": "d3fe16ef",
   "metadata": {},
   "outputs": [],
   "source": [
    "y = [\"52263\",\"53390\",\"23822\"]\n",
    "mylabels = [\"Morning\",\"Afternoon\",\"Evening\"]\n",
    "# To highlight the biggest portion of the piechart\n",
    "myexplode = [0, 0.2, 0]\n",
    "plt.pie(y, labels = mylabels, explode = myexplode)"
   ]
  },
  {
   "cell_type": "code",
   "execution_count": null,
   "id": "5b84c706",
   "metadata": {},
   "outputs": [],
   "source": [
    "del y\n",
    "del myexplode\n",
    "del mylabels\n",
    "del Sep_5\n",
    "del Sep_Delay\n",
    "del flights_delayed\n",
    "del months\n",
    "del monthlydelay\n",
    "del meandelay2004"
   ]
  },
  {
   "cell_type": "markdown",
   "id": "4e313484",
   "metadata": {},
   "source": [
    "## **QUESTION 2**"
   ]
  },
  {
   "cell_type": "markdown",
   "id": "343aeb4b",
   "metadata": {},
   "source": [
    "Read in data"
   ]
  },
  {
   "cell_type": "code",
   "execution_count": null,
   "id": "af31940d",
   "metadata": {},
   "outputs": [],
   "source": [
    "planedata = pd.read_csv (r'C:\\Users\\limzy\\dataverse files 0405\\plane-data.csv')\n",
    "\n",
    "plane_records = dataset[['ArrDelay','TailNum']].copy()"
   ]
  },
  {
   "cell_type": "markdown",
   "id": "9d944fab",
   "metadata": {},
   "source": [
    "Sum of minutes of arrival delay grouped by plane tail number"
   ]
  },
  {
   "cell_type": "code",
   "execution_count": null,
   "id": "a904807c",
   "metadata": {},
   "outputs": [],
   "source": [
    "plane_delay = plane_records.groupby(['TailNum']).sum()"
   ]
  },
  {
   "cell_type": "markdown",
   "id": "e37b1afb",
   "metadata": {},
   "source": [
    "Merge dataframes by tail number"
   ]
  },
  {
   "cell_type": "code",
   "execution_count": null,
   "id": "f8f0e62c",
   "metadata": {},
   "outputs": [],
   "source": [
    "combined_plane_delay = pd.merge(left=plane_delay, right=planedata, left_on='TailNum', right_on='tailnum')\n",
    "\n",
    "combined_plane_delay.year = combined_plane_delay.year.astype('category')\n",
    "\n",
    "combined_plane_delay = combined_plane_delay[['ArrDelay','tailnum','year']]\n",
    "# Remove nan values\n",
    "combined_plane_delay = combined_plane_delay.dropna()"
   ]
  },
  {
   "cell_type": "markdown",
   "id": "1ecbb294",
   "metadata": {},
   "source": [
    "Group planes according to their issued year and sum up their arrival delay in minutes"
   ]
  },
  {
   "cell_type": "code",
   "execution_count": null,
   "id": "589e0cd3",
   "metadata": {},
   "outputs": [],
   "source": [
    "combined_plane_delay = combined_plane_delay.groupby(['year']).sum()\n",
    "\n",
    "combined_plane_delay = combined_plane_delay.reset_index()"
   ]
  },
  {
   "cell_type": "markdown",
   "id": "8088cd29",
   "metadata": {},
   "source": [
    "Drop unknown year values by index('oooo', 'None'),  its strange to have year 2007 planes appearing in 2004 ('46')"
   ]
  },
  {
   "cell_type": "code",
   "execution_count": null,
   "id": "1d77f91e",
   "metadata": {},
   "outputs": [],
   "source": [
    "combined_plane_delay = combined_plane_delay.drop([0,46,47])\n",
    "\n",
    "# Convert year to int\n",
    "combined_plane_delay['year'] = combined_plane_delay['year'].astype(str).astype(int)\n",
    "# To convert year(category) to int, it needs to be converted to str first "
   ]
  },
  {
   "cell_type": "markdown",
   "id": "6c39531a",
   "metadata": {},
   "source": [
    "Insert Plane age status"
   ]
  },
  {
   "cell_type": "code",
   "execution_count": null,
   "id": "3b840ead",
   "metadata": {},
   "outputs": [],
   "source": [
    "plane_conditions = [(combined_plane_delay.year < 1993),\n",
    "                  (combined_plane_delay.year >= 1993)]\n",
    "plane_values=['OLD Plane','NEW Plane']        \n",
    "combined_plane_delay['Plane_Age']=np.select(plane_conditions,plane_values)"
   ]
  },
  {
   "cell_type": "markdown",
   "id": "629c284c",
   "metadata": {},
   "source": [
    "Scatter plot"
   ]
  },
  {
   "cell_type": "code",
   "execution_count": null,
   "id": "e8b739ac",
   "metadata": {},
   "outputs": [],
   "source": [
    "g = sns.catplot(x=\"year\", y=\"ArrDelay\", hue=\"Plane_Age\",  data=combined_plane_delay)\n",
    "g.set_xticklabels(rotation=90)\n",
    "g.fig.suptitle('2004 Arrival delay against age of plane')"
   ]
  },
  {
   "cell_type": "code",
   "execution_count": null,
   "id": "e915aa0b",
   "metadata": {},
   "outputs": [],
   "source": [
    "del g\n",
    "del plane_conditions\n",
    "del plane_delay\n",
    "del plane_records\n",
    "del plane_values\n",
    "del planedata\n",
    "del combined_plane_delay"
   ]
  },
  {
   "cell_type": "markdown",
   "id": "82c89a18",
   "metadata": {},
   "source": [
    "## **QUESTION 3**"
   ]
  },
  {
   "cell_type": "markdown",
   "id": "aac62789",
   "metadata": {},
   "source": [
    "Split data into Quarters of a year"
   ]
  },
  {
   "cell_type": "code",
   "execution_count": null,
   "id": "98d1a990",
   "metadata": {},
   "outputs": [],
   "source": [
    "origindep = dataset[['Date', 'Origin']]\n",
    "\n",
    "Q1 = origindep.loc[(origindep.Date.dt.month==1) | (origindep.Date.dt.month==2) | (origindep.Date.dt.month==3)]\n",
    "Q2 = origindep.loc[(origindep.Date.dt.month==4) | (origindep.Date.dt.month==5) | (origindep.Date.dt.month==6)]\n",
    "Q3 = origindep.loc[(origindep.Date.dt.month==7) | (origindep.Date.dt.month==8) | (origindep.Date.dt.month==9)]\n",
    "Q4 = origindep.loc[(origindep.Date.dt.month==10) | (origindep.Date.dt.month==11) | (origindep.Date.dt.month==12)]"
   ]
  },
  {
   "cell_type": "markdown",
   "id": "73642f4a",
   "metadata": {},
   "source": [
    "Insert a new column and assign a value of 1(int)"
   ]
  },
  {
   "cell_type": "code",
   "execution_count": null,
   "id": "08daec01",
   "metadata": {},
   "outputs": [],
   "source": [
    "Q1.insert(2, \"Count\", 1, allow_duplicates=False)\n",
    "Q2.insert(2, \"Count\", 1, allow_duplicates=False)\n",
    "Q3.insert(2, \"Count\", 1, allow_duplicates=False)\n",
    "Q4.insert(2, \"Count\", 1, allow_duplicates=False)\n",
    "\n",
    "drop_columns=['Date']\n",
    "Q1.drop(columns=drop_columns,inplace=True)\n",
    "Q2.drop(columns=drop_columns,inplace=True)\n",
    "Q3.drop(columns=drop_columns,inplace=True)\n",
    "Q4.drop(columns=drop_columns,inplace=True)\n"
   ]
  },
  {
   "cell_type": "markdown",
   "id": "b95f789a",
   "metadata": {},
   "source": [
    "Group by origin and find the top 10 highest count per origin"
   ]
  },
  {
   "cell_type": "code",
   "execution_count": null,
   "id": "8b0d4fe6",
   "metadata": {},
   "outputs": [],
   "source": [
    "Q1 = Q1.groupby(['Origin']).sum().sort_values('Count', ascending=False).head(10).reset_index()\n",
    "Q2 = Q2.groupby(['Origin']).sum().sort_values('Count', ascending=False).head(10).reset_index()\n",
    "Q3 = Q3.groupby(['Origin']).sum().sort_values('Count', ascending=False).head(10).reset_index()\n",
    "Q4 = Q4.groupby(['Origin']).sum().sort_values('Count', ascending=False).head(10).reset_index()"
   ]
  },
  {
   "cell_type": "markdown",
   "id": "07327d31",
   "metadata": {},
   "source": [
    "### Q1"
   ]
  },
  {
   "cell_type": "code",
   "execution_count": null,
   "id": "6852e0eb",
   "metadata": {},
   "outputs": [],
   "source": [
    "Q1.plot.bar(x = 'Origin', y = 'Count', color = 'blue',\n",
    "            title = '2004 Q1 top 10 busiest US airport')"
   ]
  },
  {
   "cell_type": "markdown",
   "id": "a37bfb98",
   "metadata": {},
   "source": [
    "### Q2"
   ]
  },
  {
   "cell_type": "code",
   "execution_count": null,
   "id": "9856d5a4",
   "metadata": {},
   "outputs": [],
   "source": [
    "Q2.plot.bar(x = 'Origin', y = 'Count', color = 'green',\n",
    "            title = '2004 Q2 top 10 busiest US airport')"
   ]
  },
  {
   "cell_type": "markdown",
   "id": "3f8610d7",
   "metadata": {},
   "source": [
    "### Q3"
   ]
  },
  {
   "cell_type": "code",
   "execution_count": null,
   "id": "c993ffcd",
   "metadata": {},
   "outputs": [],
   "source": [
    "Q3.plot.bar(x = 'Origin', y = 'Count', color = 'red',\n",
    "            title = '2004 Q3 top 10 busiest US airport')"
   ]
  },
  {
   "cell_type": "markdown",
   "id": "076dd69d",
   "metadata": {},
   "source": [
    "### Q4"
   ]
  },
  {
   "cell_type": "code",
   "execution_count": null,
   "id": "f48d9e29",
   "metadata": {},
   "outputs": [],
   "source": [
    "Q4.plot.bar(x = 'Origin', y = 'Count', color = 'orange',\n",
    "            title = '2004 Q4 top 10 busiest US airport')"
   ]
  },
  {
   "cell_type": "code",
   "execution_count": null,
   "id": "dea4654e",
   "metadata": {},
   "outputs": [],
   "source": [
    "del Q1\n",
    "del Q2\n",
    "del Q3\n",
    "del Q4\n",
    "del origindep"
   ]
  },
  {
   "cell_type": "markdown",
   "id": "35efa441",
   "metadata": {},
   "source": [
    "## **QUESTION 4**"
   ]
  },
  {
   "cell_type": "markdown",
   "id": "b132f7b2",
   "metadata": {},
   "source": [
    "Finding the top 3 planes with the highest sum of delay "
   ]
  },
  {
   "cell_type": "code",
   "execution_count": null,
   "id": "1f69c208",
   "metadata": {},
   "outputs": [],
   "source": [
    "highest_delay_flights = dataset[['TailNum', 'ArrDelay']].copy()\n",
    "\n",
    "top3_highest_delay_flights = highest_delay_flights.groupby(['TailNum']).sum().sort_values('ArrDelay', ascending=False).head(3)\n",
    "\n",
    "print(top3_highest_delay_flights) #N126DL - plane with the highest delay (mins)"
   ]
  },
  {
   "cell_type": "markdown",
   "id": "e4d05dad",
   "metadata": {},
   "source": [
    "Filter out information from the plane with the highest delay"
   ]
  },
  {
   "cell_type": "code",
   "execution_count": null,
   "id": "1db95a52",
   "metadata": {},
   "outputs": [],
   "source": [
    "cascadingflights = dataset[['Date','TailNum', 'DepTime', 'ArrTime',\n",
    "                            'Origin', 'Dest', 'DepStatus', 'ArrStatus','ArrDelay']].copy()\n",
    "\n",
    "FlightN126DL = cascadingflights.loc[(cascadingflights.TailNum == \"N126DL\") &\n",
    "                                    (cascadingflights.Date == \"2004-02-28\")].sort_values('DepTime', ascending=True)"
   ]
  },
  {
   "cell_type": "code",
   "execution_count": null,
   "id": "0763b597",
   "metadata": {},
   "outputs": [],
   "source": [
    "print(FlightN126DL)"
   ]
  },
  {
   "cell_type": "code",
   "execution_count": null,
   "id": "4b5e04fc",
   "metadata": {},
   "outputs": [],
   "source": [
    "del cascadingflights\n",
    "del FlightN126DL\n",
    "del highest_delay_flights\n",
    "del top3_highest_delay_flights\n",
    "del drop_columns"
   ]
  },
  {
   "cell_type": "code",
   "execution_count": null,
   "id": "b566031a",
   "metadata": {},
   "outputs": [],
   "source": [
    "dataset.dtypes"
   ]
  },
  {
   "cell_type": "markdown",
   "id": "f40742ca",
   "metadata": {},
   "source": [
    "## QUESTION 5"
   ]
  },
  {
   "cell_type": "markdown",
   "id": "a0d7cfff",
   "metadata": {},
   "source": [
    "Required dataframe"
   ]
  },
  {
   "cell_type": "code",
   "execution_count": null,
   "id": "312cdb73",
   "metadata": {},
   "outputs": [],
   "source": [
    "r_df = dataset[[\"Month\",\"DayofMonth\", \"DayOfWeek\",\"DepTime\",\"CRSArrTime\",\"CRSDepTime\",\"AirTime\",\"Distance\",\"ArrDelay\"]]"
   ]
  },
  {
   "cell_type": "markdown",
   "id": "bb99a8d2",
   "metadata": {},
   "source": [
    "Setting delayed status"
   ]
  },
  {
   "cell_type": "code",
   "execution_count": null,
   "id": "ab23cb19",
   "metadata": {},
   "outputs": [],
   "source": [
    "delayed_conditions = [(r_df.ArrDelay <= 0),\n",
    "                  (r_df.ArrDelay  > 0)]\n",
    "delayed_values=['Not Delayed','Delayed']        \n",
    "r_df['DelayedStatus']=np.select(delayed_conditions,delayed_values)\n",
    "\n",
    "drop_columns=['ArrDelay']\n",
    "\n",
    "r_df.drop(columns=drop_columns,inplace=True)"
   ]
  },
  {
   "cell_type": "markdown",
   "id": "90c611e5",
   "metadata": {},
   "source": [
    "Changing numeric variables to lowest possbile intger type"
   ]
  },
  {
   "cell_type": "code",
   "execution_count": null,
   "id": "f915fac9",
   "metadata": {},
   "outputs": [],
   "source": [
    "r_df.Month=pd.to_numeric(r_df.Month,downcast='integer')\n",
    "r_df.DayofMonth=pd.to_numeric(r_df.DayofMonth,downcast='integer')\n",
    "r_df.DayOfWeek=pd.to_numeric(r_df.DayOfWeek,downcast='integer')\n",
    "r_df.DepTime=pd.to_numeric(r_df.DepTime,downcast='integer')\n",
    "r_df.CRSArrTime=pd.to_numeric(r_df.CRSArrTime,downcast='integer')\n",
    "r_df.CRSDepTime=pd.to_numeric(r_df.CRSDepTime,downcast='integer')\n",
    "r_df.AirTime=pd.to_numeric(r_df.AirTime,downcast='integer')\n",
    "r_df.Distance=pd.to_numeric(r_df.Distance,downcast='integer')\n",
    "r_df.dtypes"
   ]
  },
  {
   "cell_type": "markdown",
   "id": "b2c6aa61",
   "metadata": {},
   "source": [
    "### Build Machine Learning Model 20/80"
   ]
  },
  {
   "cell_type": "code",
   "execution_count": null,
   "id": "d9701db9",
   "metadata": {},
   "outputs": [],
   "source": [
    "from sklearn.tree import DecisionTreeClassifier\n",
    "from sklearn.model_selection import train_test_split\n",
    "from sklearn.metrics import accuracy_score\n",
    "\n",
    "X = r_df.drop(columns=['DelayedStatus'])\n",
    "y = r_df['DelayedStatus']\n",
    "X_train, X_test, y_train, y_test = train_test_split(X, y, test_size=0.2)\n",
    "\n",
    "model = DecisionTreeClassifier()\n",
    "model.fit (X_train, y_train)\n",
    "predictions = model.predict(X_test) \n",
    "\n",
    "score = accuracy_score(y_test, predictions)\n",
    "score"
   ]
  },
  {
   "cell_type": "markdown",
   "id": "2f51719e",
   "metadata": {},
   "source": [
    "# END of 2004"
   ]
  },
  {
   "cell_type": "markdown",
   "id": "4d144ad7",
   "metadata": {},
   "source": [
    "# 2005"
   ]
  },
  {
   "cell_type": "markdown",
   "id": "5a83acf8",
   "metadata": {},
   "source": [
    "Read in data"
   ]
  },
  {
   "cell_type": "code",
   "execution_count": 4,
   "id": "e05867cd",
   "metadata": {},
   "outputs": [],
   "source": [
    "dataset = pd.read_csv (r'C:\\Users\\limzy\\dataverse files 0405\\2005.csv')"
   ]
  },
  {
   "cell_type": "markdown",
   "id": "ba3dee43",
   "metadata": {},
   "source": [
    "### **DATA WRANGLING**"
   ]
  },
  {
   "cell_type": "code",
   "execution_count": null,
   "id": "f6e45393",
   "metadata": {},
   "outputs": [],
   "source": [
    "dataset.head"
   ]
  },
  {
   "cell_type": "code",
   "execution_count": 5,
   "id": "70056655",
   "metadata": {},
   "outputs": [],
   "source": [
    "drop_columns=['ActualElapsedTime','CRSElapsedTime', 'TaxiIn', 'TaxiOut','CancellationCode','Diverted',\n",
    "                'CarrierDelay', 'WeatherDelay', 'NASDelay', 'SecurityDelay', 'LateAircraftDelay']"
   ]
  },
  {
   "cell_type": "code",
   "execution_count": 6,
   "id": "512746a9",
   "metadata": {},
   "outputs": [],
   "source": [
    "dataset.drop(columns=drop_columns,inplace=True)"
   ]
  },
  {
   "cell_type": "markdown",
   "id": "ce0b197d",
   "metadata": {},
   "source": [
    "Changing year,month,dayofmonth to datetime64"
   ]
  },
  {
   "cell_type": "code",
   "execution_count": 7,
   "id": "91ab5400",
   "metadata": {},
   "outputs": [],
   "source": [
    "dataset['dateInt']=dataset['Year'].astype(str) + dataset['Month'].astype(str).str.zfill(2) + dataset['DayofMonth'].astype(str).str.zfill(2)\n",
    "\n",
    "dataset['Date'] = pd.to_datetime(dataset['dateInt'], format='%Y%m%d')\n",
    "\n",
    "drop_columns=['Year','dateInt']\n",
    "\n",
    "dataset.drop(columns=drop_columns,inplace=True)"
   ]
  },
  {
   "cell_type": "markdown",
   "id": "7ea71f8a",
   "metadata": {},
   "source": [
    "Filling Nan Values for aircrafts missing a flight number"
   ]
  },
  {
   "cell_type": "code",
   "execution_count": 8,
   "id": "fc9e95fb",
   "metadata": {},
   "outputs": [],
   "source": [
    "dataset.TailNum.fillna('unidefined',inplace=True)"
   ]
  },
  {
   "cell_type": "markdown",
   "id": "3b0c1c4b",
   "metadata": {},
   "source": [
    "Moving Date column to the front"
   ]
  },
  {
   "cell_type": "code",
   "execution_count": 9,
   "id": "0e976ccf",
   "metadata": {},
   "outputs": [],
   "source": [
    "col_name=\"Date\"\n",
    "first_col = dataset.pop(col_name)\n",
    "dataset.insert(0, col_name, first_col)"
   ]
  },
  {
   "cell_type": "markdown",
   "id": "1722244b",
   "metadata": {},
   "source": [
    "Removing the entries with nan in ArrTime and Arrdelay variables"
   ]
  },
  {
   "cell_type": "code",
   "execution_count": 10,
   "id": "475f5f68",
   "metadata": {},
   "outputs": [
    {
     "data": {
      "text/plain": [
       "Date             0\n",
       "Month            0\n",
       "DayofMonth       0\n",
       "DayOfWeek        0\n",
       "DepTime          0\n",
       "CRSDepTime       0\n",
       "ArrTime          0\n",
       "CRSArrTime       0\n",
       "UniqueCarrier    0\n",
       "FlightNum        0\n",
       "TailNum          0\n",
       "AirTime          0\n",
       "ArrDelay         0\n",
       "DepDelay         0\n",
       "Origin           0\n",
       "Dest             0\n",
       "Distance         0\n",
       "Cancelled        0\n",
       "dtype: int64"
      ]
     },
     "execution_count": 10,
     "metadata": {},
     "output_type": "execute_result"
    }
   ],
   "source": [
    "dataset.dropna(inplace=True)\n",
    "dataset.isna().sum() # Zero nan present"
   ]
  },
  {
   "cell_type": "markdown",
   "id": "06a84953",
   "metadata": {},
   "source": [
    "Changing to int"
   ]
  },
  {
   "cell_type": "code",
   "execution_count": 11,
   "id": "b4ee7889",
   "metadata": {},
   "outputs": [
    {
     "data": {
      "text/html": [
       "<div>\n",
       "<style scoped>\n",
       "    .dataframe tbody tr th:only-of-type {\n",
       "        vertical-align: middle;\n",
       "    }\n",
       "\n",
       "    .dataframe tbody tr th {\n",
       "        vertical-align: top;\n",
       "    }\n",
       "\n",
       "    .dataframe thead th {\n",
       "        text-align: right;\n",
       "    }\n",
       "</style>\n",
       "<table border=\"1\" class=\"dataframe\">\n",
       "  <thead>\n",
       "    <tr style=\"text-align: right;\">\n",
       "      <th></th>\n",
       "      <th>DepTime</th>\n",
       "      <th>ArrTime</th>\n",
       "    </tr>\n",
       "  </thead>\n",
       "  <tbody>\n",
       "    <tr>\n",
       "      <th>count</th>\n",
       "      <td>6.992838e+06</td>\n",
       "      <td>6.992838e+06</td>\n",
       "    </tr>\n",
       "    <tr>\n",
       "      <th>mean</th>\n",
       "      <td>1.344486e+03</td>\n",
       "      <td>1.491418e+03</td>\n",
       "    </tr>\n",
       "    <tr>\n",
       "      <th>std</th>\n",
       "      <td>4.767913e+02</td>\n",
       "      <td>5.001774e+02</td>\n",
       "    </tr>\n",
       "    <tr>\n",
       "      <th>min</th>\n",
       "      <td>1.000000e+00</td>\n",
       "      <td>1.000000e+00</td>\n",
       "    </tr>\n",
       "    <tr>\n",
       "      <th>25%</th>\n",
       "      <td>9.330000e+02</td>\n",
       "      <td>1.113000e+03</td>\n",
       "    </tr>\n",
       "    <tr>\n",
       "      <th>50%</th>\n",
       "      <td>1.331000e+03</td>\n",
       "      <td>1.519000e+03</td>\n",
       "    </tr>\n",
       "    <tr>\n",
       "      <th>75%</th>\n",
       "      <td>1.735000e+03</td>\n",
       "      <td>1.915000e+03</td>\n",
       "    </tr>\n",
       "    <tr>\n",
       "      <th>max</th>\n",
       "      <td>2.805000e+03</td>\n",
       "      <td>2.923000e+03</td>\n",
       "    </tr>\n",
       "  </tbody>\n",
       "</table>\n",
       "</div>"
      ],
      "text/plain": [
       "            DepTime       ArrTime\n",
       "count  6.992838e+06  6.992838e+06\n",
       "mean   1.344486e+03  1.491418e+03\n",
       "std    4.767913e+02  5.001774e+02\n",
       "min    1.000000e+00  1.000000e+00\n",
       "25%    9.330000e+02  1.113000e+03\n",
       "50%    1.331000e+03  1.519000e+03\n",
       "75%    1.735000e+03  1.915000e+03\n",
       "max    2.805000e+03  2.923000e+03"
      ]
     },
     "execution_count": 11,
     "metadata": {},
     "output_type": "execute_result"
    }
   ],
   "source": [
    "dataset['ArrTime'] = dataset['ArrTime'].astype(np.int64)\n",
    "dataset['DepTime'] = dataset['DepTime'].astype(np.int64)\n",
    "dataset['ArrDelay'] = dataset['ArrDelay'].astype(np.int64)\n",
    "dataset['DepDelay'] = dataset['DepDelay'].astype(np.int64)\n",
    "\n",
    "dataset[['DepTime', 'ArrTime']].describe() # DepTime max: 2805, ArrTime max: 2923"
   ]
  },
  {
   "cell_type": "markdown",
   "id": "656ca4d8",
   "metadata": {},
   "source": [
    "Max of DepTime and ArrTime can only be 2400 therefore to treat this, I will set the limit of time to 2400 and anything after will be nan"
   ]
  },
  {
   "cell_type": "code",
   "execution_count": 12,
   "id": "03c7450d",
   "metadata": {},
   "outputs": [],
   "source": [
    "dataset.DepTime.mask((dataset.DepTime >= 2400) & (dataset.DepTime <= 3000), inplace=True)\n",
    "dataset.ArrTime.mask((dataset.ArrTime >= 2400) & (dataset.ArrTime <= 3000), inplace=True)"
   ]
  },
  {
   "cell_type": "markdown",
   "id": "eb702c61",
   "metadata": {},
   "source": [
    "Removing the entries with nan in ArrTime and DepTime variables"
   ]
  },
  {
   "cell_type": "code",
   "execution_count": 13,
   "id": "86519861",
   "metadata": {},
   "outputs": [
    {
     "data": {
      "text/plain": [
       "Date             0\n",
       "Month            0\n",
       "DayofMonth       0\n",
       "DayOfWeek        0\n",
       "DepTime          0\n",
       "CRSDepTime       0\n",
       "ArrTime          0\n",
       "CRSArrTime       0\n",
       "UniqueCarrier    0\n",
       "FlightNum        0\n",
       "TailNum          0\n",
       "AirTime          0\n",
       "ArrDelay         0\n",
       "DepDelay         0\n",
       "Origin           0\n",
       "Dest             0\n",
       "Distance         0\n",
       "Cancelled        0\n",
       "dtype: int64"
      ]
     },
     "execution_count": 13,
     "metadata": {},
     "output_type": "execute_result"
    }
   ],
   "source": [
    "dataset.dropna(inplace=True)\n",
    "dataset.isna().sum() # Zero nan present"
   ]
  },
  {
   "cell_type": "markdown",
   "id": "9aec25b7",
   "metadata": {},
   "source": [
    "### Detection and treatment of Outliers – IQR approach"
   ]
  },
  {
   "cell_type": "code",
   "execution_count": 14,
   "id": "4a5241d3",
   "metadata": {},
   "outputs": [
    {
     "data": {
      "text/plain": [
       "Date             0\n",
       "Month            0\n",
       "DayofMonth       0\n",
       "DayOfWeek        0\n",
       "DepTime          0\n",
       "CRSDepTime       0\n",
       "ArrTime          0\n",
       "CRSArrTime       0\n",
       "UniqueCarrier    0\n",
       "FlightNum        0\n",
       "TailNum          0\n",
       "AirTime          0\n",
       "ArrDelay         0\n",
       "DepDelay         0\n",
       "Origin           0\n",
       "Dest             0\n",
       "Distance         0\n",
       "Cancelled        0\n",
       "dtype: int64"
      ]
     },
     "execution_count": 14,
     "metadata": {},
     "output_type": "execute_result"
    }
   ],
   "source": [
    "dataset[['ArrDelay'\t,'DepDelay']].describe()\n",
    "\n",
    "for x in ['ArrDelay']:\n",
    "    q75,q25 = np.percentile(dataset.loc[:,x],[75,25])\n",
    "    intr_qr = q75-q25\n",
    " \n",
    "    max = q75+(1.5*intr_qr)\n",
    "    min = q25-(1.5*intr_qr)\n",
    " \n",
    "    dataset.loc[dataset[x] < min,x] = np.nan\n",
    "    dataset.loc[dataset[x] > max,x] = np.nan\n",
    "    \n",
    "for x in ['DepDelay']:\n",
    "    q75,q25 = np.percentile(dataset.loc[:,x],[75,25])\n",
    "    intr_qr = q75-q25\n",
    " \n",
    "    max = q75+(1.5*intr_qr)\n",
    "    min = q25-(1.5*intr_qr)\n",
    " \n",
    "    dataset.loc[dataset[x] < min,x] = np.nan\n",
    "    dataset.loc[dataset[x] > max,x] = np.nan\n",
    "\n",
    "dataset.dropna(inplace=True)\n",
    "dataset.isna().sum() # Zero nan present"
   ]
  },
  {
   "cell_type": "markdown",
   "id": "7aeaf24e",
   "metadata": {},
   "source": [
    "Insert departure and arrival status"
   ]
  },
  {
   "cell_type": "code",
   "execution_count": 15,
   "id": "1abab5d8",
   "metadata": {},
   "outputs": [],
   "source": [
    "dep_conditions = [(dataset.DepDelay < 0),\n",
    "                  (dataset.DepDelay == 0),\n",
    "                  (dataset.DepDelay > 0)]\n",
    "dep_values=['Early Departure','On Time','Late Departure']        \n",
    "dataset['DepStatus']=np.select(dep_conditions,dep_values)\n",
    "\n",
    "arr_conditions = [(dataset.ArrDelay < 0),\n",
    "                  (dataset.ArrDelay == 0),\n",
    "                  (dataset.ArrDelay > 0)]\n",
    "arr_values=['Early Arrival','On Time','Late Arrival']        \n",
    "dataset['ArrStatus']=np.select(arr_conditions,arr_values)"
   ]
  },
  {
   "cell_type": "code",
   "execution_count": 16,
   "id": "ace6a6a4",
   "metadata": {},
   "outputs": [],
   "source": [
    "del dep_conditions\n",
    "del arr_conditions\n",
    "del arr_values\n",
    "del dep_values\n",
    "del intr_qr\n",
    "del max\n",
    "del min\n",
    "del q25\n",
    "del q75\n",
    "del x\n",
    "del col_name\n",
    "del first_col"
   ]
  },
  {
   "cell_type": "markdown",
   "id": "a98daa42",
   "metadata": {},
   "source": [
    "## **QUESTION 1**"
   ]
  },
  {
   "cell_type": "markdown",
   "id": "f7f40556",
   "metadata": {},
   "source": [
    "Dataframe for average daily flight delay for 2005"
   ]
  },
  {
   "cell_type": "code",
   "execution_count": 17,
   "id": "f2534a3d",
   "metadata": {},
   "outputs": [],
   "source": [
    "flights_delayed = dataset[['Date','ArrDelay']].copy()"
   ]
  },
  {
   "cell_type": "markdown",
   "id": "52a2a1b2",
   "metadata": {},
   "source": [
    "Finding the average daily flight delay for 2005"
   ]
  },
  {
   "cell_type": "code",
   "execution_count": 18,
   "id": "af7ac5dd",
   "metadata": {},
   "outputs": [],
   "source": [
    "meandelay2005 = flights_delayed.groupby(pd.Grouper(key='Date', axis=0, \n",
    "                      freq='D', sort=True)).mean()\n",
    "\n",
    "meandelay2005['ArrDelay'] = pd.to_numeric(pd.to_datetime(meandelay2005['ArrDelay']))"
   ]
  },
  {
   "cell_type": "markdown",
   "id": "6dd89673",
   "metadata": {},
   "source": [
    "Plot Heatmap"
   ]
  },
  {
   "cell_type": "code",
   "execution_count": 19,
   "id": "d7838439",
   "metadata": {},
   "outputs": [
    {
     "name": "stderr",
     "output_type": "stream",
     "text": [
      "findfont: Font family ['Helvetica'] not found. Falling back to DejaVu Sans.\n"
     ]
    },
    {
     "data": {
      "text/plain": [
       "(<Figure size 900x122.4 with 2 Axes>,\n",
       " array([<AxesSubplot:ylabel='2005'>], dtype=object))"
      ]
     },
     "execution_count": 19,
     "metadata": {},
     "output_type": "execute_result"
    },
    {
     "data": {
      "image/png": "[encoded data removed]",
      "text/plain": [
       "<Figure size 900x122.4 with 2 Axes>"
      ]
     },
     "metadata": {
      "needs_background": "light"
     },
     "output_type": "display_data"
    }
   ],
   "source": [
    "calplot.calplot(meandelay2005[\"ArrDelay\"],linewidth=2.3,\n",
    "cmap='coolwarm', suptitle=('Average daily flight delay'))"
   ]
  },
  {
   "cell_type": "markdown",
   "id": "9acad694",
   "metadata": {},
   "source": [
    "Resetting index as groupby function made 'Dates' into index"
   ]
  },
  {
   "cell_type": "code",
   "execution_count": 20,
   "id": "f28582c5",
   "metadata": {},
   "outputs": [],
   "source": [
    "meandelay2005 = meandelay2005.reset_index()"
   ]
  },
  {
   "cell_type": "markdown",
   "id": "1ecfd6db",
   "metadata": {},
   "source": [
    "Finding the mean of the monthly delays"
   ]
  },
  {
   "cell_type": "code",
   "execution_count": 21,
   "id": "17ea2b4a",
   "metadata": {},
   "outputs": [],
   "source": [
    "monthlydelay = dataset[['Date','ArrDelay']].copy()\n",
    "monthlydelay = monthlydelay.set_index('Date')\n",
    "monthlydelay = monthlydelay.groupby(pd.Grouper(freq='M')).mean()\n",
    "\n",
    "# Declare a month name list that is to be converted into a column\n",
    "months = [ 'Jan', 'Feb', 'Mar', 'Apr', 'May', 'Jun', 'Jul', 'Aug', 'Sep', 'Oct', 'Nov', 'Dec']\n",
    "\n",
    "# Using 'Months' as the column name\n",
    "# and equating it to the dataframe\n",
    "monthlydelay['Months'] = months"
   ]
  },
  {
   "cell_type": "markdown",
   "id": "a3fc5acf",
   "metadata": {},
   "source": [
    "Bar plot for monthly mean delay"
   ]
  },
  {
   "cell_type": "code",
   "execution_count": 22,
   "id": "bf34b0ed",
   "metadata": {},
   "outputs": [
    {
     "data": {
      "text/plain": [
       "<AxesSubplot:title={'center':'Monthly Average of flight delay (in Mins) - Year 2005'}, xlabel='Months'>"
      ]
     },
     "execution_count": 22,
     "metadata": {},
     "output_type": "execute_result"
    },
    {
     "data": {
      "image/png": "[encoded data removed]",
      "text/plain": [
       "<Figure size 432x288 with 1 Axes>"
      ]
     },
     "metadata": {
      "needs_background": "light"
     },
     "output_type": "display_data"
    }
   ],
   "source": [
    "monthlydelay.plot.bar(x=\"Months\", y=\"ArrDelay\", rot=70, title=\"Monthly Average of flight delay (in Mins) - Year 2005\")"
   ]
  },
  {
   "cell_type": "markdown",
   "id": "b1a3c8e8",
   "metadata": {},
   "source": [
    "Apr - lowest average flight delay. Filter Apr"
   ]
  },
  {
   "cell_type": "code",
   "execution_count": 23,
   "id": "e37de6b1",
   "metadata": {},
   "outputs": [
    {
     "name": "stderr",
     "output_type": "stream",
     "text": [
      "C:\\Users\\limzy\\AppData\\Local\\Temp\\ipykernel_7152\\1342651767.py:5: SettingWithCopyWarning: \n",
      "A value is trying to be set on a copy of a slice from a DataFrame.\n",
      "Try using .loc[row_indexer,col_indexer] = value instead\n",
      "\n",
      "See the caveats in the documentation: https://pandas.pydata.org/pandas-docs/stable/user_guide/indexing.html#returning-a-view-versus-a-copy\n",
      "  Apr_Delay['Day'] = Apr_Delay.Date.dt.strftime(\"%A\")\n"
     ]
    }
   ],
   "source": [
    "Apr_Delay = meandelay2005.loc[(meandelay2005['Date'] >= '2005-04-01')\n",
    "                     & (meandelay2005['Date'] < '2005-04-30')]\n",
    "\n",
    "# Add days inside\n",
    "Apr_Delay['Day'] = Apr_Delay.Date.dt.strftime(\"%A\")"
   ]
  },
  {
   "cell_type": "markdown",
   "id": "8c8d269e",
   "metadata": {},
   "source": [
    "Plot bar"
   ]
  },
  {
   "cell_type": "code",
   "execution_count": 24,
   "id": "4f55b7ef",
   "metadata": {},
   "outputs": [
    {
     "data": {
      "text/plain": [
       "<AxesSubplot:title={'center':'Apr Average of flight delay (in Mins) - Year 2005'}, xlabel='Day'>"
      ]
     },
     "execution_count": 24,
     "metadata": {},
     "output_type": "execute_result"
    },
    {
     "data": {
      "image/png": "[encoded data removed]",
      "text/plain": [
       "<Figure size 432x288 with 1 Axes>"
      ]
     },
     "metadata": {
      "needs_background": "light"
     },
     "output_type": "display_data"
    }
   ],
   "source": [
    "Apr_Delay.plot.bar(x=\"Day\", y=\"ArrDelay\", rot=70, title=\"Apr Average of flight delay (in Mins) - Year 2005\")"
   ]
  },
  {
   "cell_type": "markdown",
   "id": "0dd72502",
   "metadata": {},
   "source": [
    "Apr 16 lowest average delay of month. Filter for Apr 16"
   ]
  },
  {
   "cell_type": "code",
   "execution_count": 25,
   "id": "38589350",
   "metadata": {},
   "outputs": [
    {
     "name": "stderr",
     "output_type": "stream",
     "text": [
      "C:\\Users\\limzy\\AppData\\Local\\Temp\\ipykernel_7152\\944443026.py:5: SettingWithCopyWarning: \n",
      "A value is trying to be set on a copy of a slice from a DataFrame\n",
      "\n",
      "See the caveats in the documentation: https://pandas.pydata.org/pandas-docs/stable/user_guide/indexing.html#returning-a-view-versus-a-copy\n",
      "  Apr_16.drop(columns=drop_columns,inplace=True)\n"
     ]
    }
   ],
   "source": [
    "Apr_16 = dataset.loc[(dataset['Date'] == '2005-04-16')]\n",
    "\n",
    "drop_columns=['Date','Month','DayOfWeek','ArrTime','UniqueCarrier','FlightNum','TailNum','DepDelay','Cancelled']\n",
    "\n",
    "Apr_16.drop(columns=drop_columns,inplace=True)\n",
    "\n",
    "Apr_16 = Apr_16.sort_values(by=['DepTime'])"
   ]
  },
  {
   "cell_type": "markdown",
   "id": "bff4eb82",
   "metadata": {},
   "source": [
    "Classifying time of the day"
   ]
  },
  {
   "cell_type": "code",
   "execution_count": 26,
   "id": "6ab9c097",
   "metadata": {},
   "outputs": [],
   "source": [
    "def classify(x):\n",
    "    if 0 <= x < 1200:\n",
    "        y = \"Morning\"\n",
    "    if 1200 <= x < 1800:\n",
    "        y = \"Afternoon\"\n",
    "    if 1800 <= x < 2400:\n",
    "        y = \"Evening\"\n",
    "    return y\n",
    "\n",
    "Apr_16['TimeOfDay'] = Apr_16['DepTime'].apply(lambda x: classify(x))"
   ]
  },
  {
   "cell_type": "code",
   "execution_count": 27,
   "id": "ec421f02",
   "metadata": {},
   "outputs": [],
   "source": [
    "drop_columns=['DepTime']\n",
    "Apr_16.drop(columns=drop_columns,inplace=True)\n",
    "\n",
    "# Grouping values together according to time of the day and find the sum of the delay\n",
    "Apr_16 = Apr_16.groupby(['TimeOfDay']).sum()     # -46939, -45234, -24855\n",
    "# Negative delay indicates early arrival"
   ]
  },
  {
   "cell_type": "markdown",
   "id": "3079b377",
   "metadata": {},
   "source": [
    "Pie chart plot"
   ]
  },
  {
   "cell_type": "code",
   "execution_count": 29,
   "id": "9396ef09",
   "metadata": {},
   "outputs": [
    {
     "data": {
      "text/plain": [
       "([<matplotlib.patches.Wedge at 0x1ff53f16490>,\n",
       "  <matplotlib.patches.Wedge at 0x1ff53f16970>,\n",
       "  <matplotlib.patches.Wedge at 0x1ff53f16e50>],\n",
       " [Text(0.3974780065161532, 1.2377444139788896, 'Morning'),\n",
       "  Text(-0.9122926802824799, -0.6145909741470412, 'Afternoon'),\n",
       "  Text(0.8640945095964636, -0.6806913239385729, 'Evening')])"
      ]
     },
     "execution_count": 29,
     "metadata": {},
     "output_type": "execute_result"
    },
    {
     "data": {
      "image/png": "[encoded data removed]",
      "text/plain": [
       "<Figure size 432x288 with 1 Axes>"
      ]
     },
     "metadata": {},
     "output_type": "display_data"
    }
   ],
   "source": [
    "y = [\"46939\",\"45234\",\"24855\"]\n",
    "mylabels = [\"Morning\",\"Afternoon\",\"Evening\"]\n",
    "# To highlight the biggest portion of the piechart\n",
    "myexplode = [0.2, 0, 0]\n",
    "plt.pie(y, labels = mylabels, explode = myexplode)"
   ]
  },
  {
   "cell_type": "code",
   "execution_count": 31,
   "id": "393c361a",
   "metadata": {},
   "outputs": [
    {
     "ename": "NameError",
     "evalue": "name 'y' is not defined",
     "output_type": "error",
     "traceback": [
      "\u001b[1;31m---------------------------------------------------------------------------\u001b[0m",
      "\u001b[1;31mNameError\u001b[0m                                 Traceback (most recent call last)",
      "\u001b[1;32m~\\AppData\\Local\\Temp\\ipykernel_7152\\1778740322.py\u001b[0m in \u001b[0;36m<cell line: 1>\u001b[1;34m()\u001b[0m\n\u001b[1;32m----> 1\u001b[1;33m \u001b[1;32mdel\u001b[0m \u001b[0my\u001b[0m\u001b[1;33m\u001b[0m\u001b[1;33m\u001b[0m\u001b[0m\n\u001b[0m\u001b[0;32m      2\u001b[0m \u001b[1;32mdel\u001b[0m \u001b[0mmyexplode\u001b[0m\u001b[1;33m\u001b[0m\u001b[1;33m\u001b[0m\u001b[0m\n\u001b[0;32m      3\u001b[0m \u001b[1;32mdel\u001b[0m \u001b[0mmylabels\u001b[0m\u001b[1;33m\u001b[0m\u001b[1;33m\u001b[0m\u001b[0m\n\u001b[0;32m      4\u001b[0m \u001b[1;32mdel\u001b[0m \u001b[0mApr_16\u001b[0m\u001b[1;33m\u001b[0m\u001b[1;33m\u001b[0m\u001b[0m\n\u001b[0;32m      5\u001b[0m \u001b[1;32mdel\u001b[0m \u001b[0mApr_Delay\u001b[0m\u001b[1;33m\u001b[0m\u001b[1;33m\u001b[0m\u001b[0m\n",
      "\u001b[1;31mNameError\u001b[0m: name 'y' is not defined"
     ]
    }
   ],
   "source": [
    "del y\n",
    "del myexplode\n",
    "del mylabels\n",
    "del Apr_16\n",
    "del Apr_Delay\n",
    "del flights_delayed\n",
    "del months\n",
    "del monthlydelay\n",
    "del meandelay2005"
   ]
  },
  {
   "cell_type": "markdown",
   "id": "28504639",
   "metadata": {},
   "source": [
    "## **QUESTION 2**"
   ]
  },
  {
   "cell_type": "markdown",
   "id": "f7308002",
   "metadata": {},
   "source": [
    "Read in data"
   ]
  },
  {
   "cell_type": "code",
   "execution_count": 32,
   "id": "07c3179d",
   "metadata": {},
   "outputs": [],
   "source": [
    "planedata = pd.read_csv (r'C:\\Users\\limzy\\dataverse files 0405\\plane-data.csv')\n",
    "\n",
    "plane_records = dataset[['ArrDelay','TailNum']].copy()"
   ]
  },
  {
   "cell_type": "markdown",
   "id": "08b1c159",
   "metadata": {},
   "source": [
    "Sum of minutes of arrival delay grouped by plane tail number"
   ]
  },
  {
   "cell_type": "code",
   "execution_count": 33,
   "id": "7f9742c0",
   "metadata": {},
   "outputs": [],
   "source": [
    "plane_delay = plane_records.groupby(['TailNum']).sum()"
   ]
  },
  {
   "cell_type": "markdown",
   "id": "ae4c722c",
   "metadata": {},
   "source": [
    "Merge dataframes by tail number"
   ]
  },
  {
   "cell_type": "code",
   "execution_count": 34,
   "id": "ee7b0e9f",
   "metadata": {},
   "outputs": [],
   "source": [
    "combined_plane_delay = pd.merge(left=plane_delay, right=planedata, left_on='TailNum', right_on='tailnum')\n",
    "\n",
    "combined_plane_delay.year = combined_plane_delay.year.astype('category')\n",
    "\n",
    "combined_plane_delay = combined_plane_delay[['ArrDelay','tailnum','year']]\n",
    "# Remove nan values\n",
    "combined_plane_delay = combined_plane_delay.dropna()"
   ]
  },
  {
   "cell_type": "markdown",
   "id": "a5b2a72d",
   "metadata": {},
   "source": [
    "Group planes according to their issued year and sum up their arrival delay in minutes"
   ]
  },
  {
   "cell_type": "code",
   "execution_count": 35,
   "id": "5cf03223",
   "metadata": {},
   "outputs": [],
   "source": [
    "combined_plane_delay = combined_plane_delay.groupby(['year']).sum()\n",
    "\n",
    "combined_plane_delay = combined_plane_delay.reset_index()"
   ]
  },
  {
   "cell_type": "markdown",
   "id": "ba43a640",
   "metadata": {},
   "source": [
    "Drop unknown year values by index('oooo', 'None'),  its strange to have year 2007 planes appearing in 2005 ('47')"
   ]
  },
  {
   "cell_type": "code",
   "execution_count": 36,
   "id": "d13485f2",
   "metadata": {},
   "outputs": [],
   "source": [
    "combined_plane_delay = combined_plane_delay.drop([0,47,48])\n",
    "\n",
    "# Convert year to int\n",
    "combined_plane_delay['year'] = combined_plane_delay['year'].astype(str).astype(int)\n",
    "# To convert year(category) to int, it needs to be converted to str first "
   ]
  },
  {
   "cell_type": "markdown",
   "id": "f04aa943",
   "metadata": {},
   "source": [
    "Insert Plane age status"
   ]
  },
  {
   "cell_type": "code",
   "execution_count": 37,
   "id": "76e10fff",
   "metadata": {},
   "outputs": [],
   "source": [
    "plane_conditions = [(combined_plane_delay.year < 1994),\n",
    "                  (combined_plane_delay.year >= 1994)]\n",
    "plane_values=['OLD Plane','NEW Plane']        \n",
    "combined_plane_delay['Plane_Age']=np.select(plane_conditions,plane_values)"
   ]
  },
  {
   "cell_type": "markdown",
   "id": "eeabfeaf",
   "metadata": {},
   "source": [
    "Scatter plot"
   ]
  },
  {
   "cell_type": "code",
   "execution_count": 38,
   "id": "c8795124",
   "metadata": {},
   "outputs": [
    {
     "data": {
      "text/plain": [
       "Text(0.5, 0.98, '2005 Arrival delay against age of plane')"
      ]
     },
     "execution_count": 38,
     "metadata": {},
     "output_type": "execute_result"
    },
    {
     "data": {
      "image/png": "[encoded data removed]",
      "text/plain": [
       "<Figure size 450.25x360 with 1 Axes>"
      ]
     },
     "metadata": {
      "needs_background": "light"
     },
     "output_type": "display_data"
    }
   ],
   "source": [
    "g = sns.catplot(x=\"year\", y=\"ArrDelay\", hue=\"Plane_Age\",  data=combined_plane_delay)\n",
    "g.set_xticklabels(rotation=90)\n",
    "g.fig.suptitle('2005 Arrival delay against age of plane')"
   ]
  },
  {
   "cell_type": "code",
   "execution_count": 39,
   "id": "f7687a36",
   "metadata": {},
   "outputs": [],
   "source": [
    "del g\n",
    "del plane_conditions\n",
    "del plane_delay\n",
    "del plane_records\n",
    "del plane_values\n",
    "del planedata\n",
    "del combined_plane_delay"
   ]
  },
  {
   "cell_type": "markdown",
   "id": "bb6477c9",
   "metadata": {},
   "source": [
    "## **QUESTION 3**"
   ]
  },
  {
   "cell_type": "markdown",
   "id": "e35c1c66",
   "metadata": {},
   "source": [
    "Split data into Quarters of a year"
   ]
  },
  {
   "cell_type": "code",
   "execution_count": 40,
   "id": "3e50408d",
   "metadata": {},
   "outputs": [],
   "source": [
    "origindep = dataset[['Date', 'Origin']]\n",
    "\n",
    "Q1 = origindep.loc[(origindep.Date.dt.month==1) | (origindep.Date.dt.month==2) | (origindep.Date.dt.month==3)]\n",
    "Q2 = origindep.loc[(origindep.Date.dt.month==4) | (origindep.Date.dt.month==5) | (origindep.Date.dt.month==6)]\n",
    "Q3 = origindep.loc[(origindep.Date.dt.month==7) | (origindep.Date.dt.month==8) | (origindep.Date.dt.month==9)]\n",
    "Q4 = origindep.loc[(origindep.Date.dt.month==10) | (origindep.Date.dt.month==11) | (origindep.Date.dt.month==12)]"
   ]
  },
  {
   "cell_type": "markdown",
   "id": "f70f1d54",
   "metadata": {},
   "source": [
    "Insert a new column and assign a value of 1(int)"
   ]
  },
  {
   "cell_type": "code",
   "execution_count": 41,
   "id": "d61bc5ba",
   "metadata": {},
   "outputs": [
    {
     "name": "stderr",
     "output_type": "stream",
     "text": [
      "C:\\Users\\limzy\\AppData\\Local\\Temp\\ipykernel_7152\\3986106305.py:7: SettingWithCopyWarning: \n",
      "A value is trying to be set on a copy of a slice from a DataFrame\n",
      "\n",
      "See the caveats in the documentation: https://pandas.pydata.org/pandas-docs/stable/user_guide/indexing.html#returning-a-view-versus-a-copy\n",
      "  Q1.drop(columns=drop_columns,inplace=True)\n",
      "C:\\Users\\limzy\\AppData\\Local\\Temp\\ipykernel_7152\\3986106305.py:8: SettingWithCopyWarning: \n",
      "A value is trying to be set on a copy of a slice from a DataFrame\n",
      "\n",
      "See the caveats in the documentation: https://pandas.pydata.org/pandas-docs/stable/user_guide/indexing.html#returning-a-view-versus-a-copy\n",
      "  Q2.drop(columns=drop_columns,inplace=True)\n",
      "C:\\Users\\limzy\\AppData\\Local\\Temp\\ipykernel_7152\\3986106305.py:9: SettingWithCopyWarning: \n",
      "A value is trying to be set on a copy of a slice from a DataFrame\n",
      "\n",
      "See the caveats in the documentation: https://pandas.pydata.org/pandas-docs/stable/user_guide/indexing.html#returning-a-view-versus-a-copy\n",
      "  Q3.drop(columns=drop_columns,inplace=True)\n",
      "C:\\Users\\limzy\\AppData\\Local\\Temp\\ipykernel_7152\\3986106305.py:10: SettingWithCopyWarning: \n",
      "A value is trying to be set on a copy of a slice from a DataFrame\n",
      "\n",
      "See the caveats in the documentation: https://pandas.pydata.org/pandas-docs/stable/user_guide/indexing.html#returning-a-view-versus-a-copy\n",
      "  Q4.drop(columns=drop_columns,inplace=True)\n"
     ]
    }
   ],
   "source": [
    "Q1.insert(2, \"Count\", 1, allow_duplicates=False)\n",
    "Q2.insert(2, \"Count\", 1, allow_duplicates=False)\n",
    "Q3.insert(2, \"Count\", 1, allow_duplicates=False)\n",
    "Q4.insert(2, \"Count\", 1, allow_duplicates=False)\n",
    "\n",
    "drop_columns=['Date']\n",
    "Q1.drop(columns=drop_columns,inplace=True)\n",
    "Q2.drop(columns=drop_columns,inplace=True)\n",
    "Q3.drop(columns=drop_columns,inplace=True)\n",
    "Q4.drop(columns=drop_columns,inplace=True)\n"
   ]
  },
  {
   "cell_type": "markdown",
   "id": "3f2b49e0",
   "metadata": {},
   "source": [
    "Group by origin and find the top 10 highest count per origin"
   ]
  },
  {
   "cell_type": "code",
   "execution_count": 42,
   "id": "95ba4b63",
   "metadata": {},
   "outputs": [],
   "source": [
    "Q1 = Q1.groupby(['Origin']).sum().sort_values('Count', ascending=False).head(10).reset_index()\n",
    "Q2 = Q2.groupby(['Origin']).sum().sort_values('Count', ascending=False).head(10).reset_index()\n",
    "Q3 = Q3.groupby(['Origin']).sum().sort_values('Count', ascending=False).head(10).reset_index()\n",
    "Q4 = Q4.groupby(['Origin']).sum().sort_values('Count', ascending=False).head(10).reset_index()"
   ]
  },
  {
   "cell_type": "markdown",
   "id": "0bb4f227",
   "metadata": {},
   "source": [
    "### Q1"
   ]
  },
  {
   "cell_type": "code",
   "execution_count": 43,
   "id": "61b97644",
   "metadata": {},
   "outputs": [
    {
     "data": {
      "text/plain": [
       "<AxesSubplot:title={'center':'2005 Q1 top 10 busiest US airport'}, xlabel='Origin'>"
      ]
     },
     "execution_count": 43,
     "metadata": {},
     "output_type": "execute_result"
    },
    {
     "data": {
      "image/png": "[encoded data removed]",
      "text/plain": [
       "<Figure size 432x288 with 1 Axes>"
      ]
     },
     "metadata": {
      "needs_background": "light"
     },
     "output_type": "display_data"
    }
   ],
   "source": [
    "Q1.plot.bar(x = 'Origin', y = 'Count', color = 'blue',\n",
    "            title = '2005 Q1 top 10 busiest US airport')"
   ]
  },
  {
   "cell_type": "markdown",
   "id": "c4839f86",
   "metadata": {},
   "source": [
    "### Q2"
   ]
  },
  {
   "cell_type": "code",
   "execution_count": 44,
   "id": "1e672279",
   "metadata": {},
   "outputs": [
    {
     "data": {
      "text/plain": [
       "<AxesSubplot:title={'center':'2005 Q2 top 10 busiest US airport'}, xlabel='Origin'>"
      ]
     },
     "execution_count": 44,
     "metadata": {},
     "output_type": "execute_result"
    },
    {
     "data": {
      "image/png": "[encoded data removed]",
      "text/plain": [
       "<Figure size 432x288 with 1 Axes>"
      ]
     },
     "metadata": {
      "needs_background": "light"
     },
     "output_type": "display_data"
    }
   ],
   "source": [
    "Q2.plot.bar(x = 'Origin', y = 'Count', color = 'green',\n",
    "            title = '2005 Q2 top 10 busiest US airport')"
   ]
  },
  {
   "cell_type": "markdown",
   "id": "baa1f054",
   "metadata": {},
   "source": [
    "### Q3"
   ]
  },
  {
   "cell_type": "code",
   "execution_count": 45,
   "id": "70184b3e",
   "metadata": {},
   "outputs": [
    {
     "data": {
      "text/plain": [
       "<AxesSubplot:title={'center':'2005 Q3 top 10 busiest US airport'}, xlabel='Origin'>"
      ]
     },
     "execution_count": 45,
     "metadata": {},
     "output_type": "execute_result"
    },
    {
     "data": {
      "image/png": "[encoded data removed]",
      "text/plain": [
       "<Figure size 432x288 with 1 Axes>"
      ]
     },
     "metadata": {
      "needs_background": "light"
     },
     "output_type": "display_data"
    }
   ],
   "source": [
    "Q3.plot.bar(x = 'Origin', y = 'Count', color = 'red',\n",
    "            title = '2005 Q3 top 10 busiest US airport')"
   ]
  },
  {
   "cell_type": "markdown",
   "id": "7dec624a",
   "metadata": {},
   "source": [
    "### Q4"
   ]
  },
  {
   "cell_type": "code",
   "execution_count": 46,
   "id": "721e2436",
   "metadata": {},
   "outputs": [
    {
     "data": {
      "text/plain": [
       "<AxesSubplot:title={'center':'2005 Q4 top 10 busiest US airport'}, xlabel='Origin'>"
      ]
     },
     "execution_count": 46,
     "metadata": {},
     "output_type": "execute_result"
    },
    {
     "data": {
      "image/png": "[encoded data removed]",
      "text/plain": [
       "<Figure size 432x288 with 1 Axes>"
      ]
     },
     "metadata": {
      "needs_background": "light"
     },
     "output_type": "display_data"
    }
   ],
   "source": [
    "Q4.plot.bar(x = 'Origin', y = 'Count', color = 'orange',\n",
    "            title = '2005 Q4 top 10 busiest US airport')"
   ]
  },
  {
   "cell_type": "code",
   "execution_count": 47,
   "id": "e7efce0f",
   "metadata": {},
   "outputs": [],
   "source": [
    "del Q1\n",
    "del Q2\n",
    "del Q3\n",
    "del Q4\n",
    "del origindep"
   ]
  },
  {
   "cell_type": "markdown",
   "id": "ebff1560",
   "metadata": {},
   "source": [
    "## **QUESTION 4**"
   ]
  },
  {
   "cell_type": "markdown",
   "id": "57e6b03b",
   "metadata": {},
   "source": [
    "Finding the top 3 planes with the highest sum of delay "
   ]
  },
  {
   "cell_type": "code",
   "execution_count": 48,
   "id": "b2211f72",
   "metadata": {},
   "outputs": [
    {
     "name": "stdout",
     "output_type": "stream",
     "text": [
      "         ArrDelay\n",
      "TailNum          \n",
      "N543US     2277.0\n",
      "N373NW     1939.0\n",
      "N126DL     1879.0\n"
     ]
    }
   ],
   "source": [
    "highest_delay_flights = dataset[['TailNum', 'ArrDelay']].copy()\n",
    "\n",
    "top3_highest_delay_flights = highest_delay_flights.groupby(['TailNum']).sum().sort_values('ArrDelay', ascending=False).head(3)\n",
    "\n",
    "print(top3_highest_delay_flights) #N543US - plane with the highest delay (mins)"
   ]
  },
  {
   "cell_type": "markdown",
   "id": "7a1225fc",
   "metadata": {},
   "source": [
    "Filter out information from the plane with the highest delay"
   ]
  },
  {
   "cell_type": "code",
   "execution_count": 49,
   "id": "45e1e6cc",
   "metadata": {},
   "outputs": [],
   "source": [
    "cascadingflights = dataset[['Date','TailNum', 'DepTime', 'ArrTime',\n",
    "                            'Origin', 'Dest', 'DepStatus', 'ArrStatus','ArrDelay']].copy()\n",
    "\n",
    "FlightN543US = cascadingflights.loc[(cascadingflights.TailNum == \"N543US\") &\n",
    "                                    (cascadingflights.Date == \"2005-12-12\")].sort_values('DepTime', ascending=True)"
   ]
  },
  {
   "cell_type": "code",
   "execution_count": 50,
   "id": "b7976772",
   "metadata": {},
   "outputs": [
    {
     "name": "stdout",
     "output_type": "stream",
     "text": [
      "              Date TailNum  DepTime  ArrTime Origin Dest        DepStatus  \\\n",
      "6717910 2005-12-12  N543US    935.0   1254.0    RSW  DTW  Early Departure   \n",
      "6985960 2005-12-12  N543US   1405.0   1551.0    DTW  LGA   Late Departure   \n",
      "6988458 2005-12-12  N543US   1640.0   1819.0    LGA  DTW   Late Departure   \n",
      "6989972 2005-12-12  N543US   1926.0   2140.0    DTW  MCO   Late Departure   \n",
      "\n",
      "             ArrStatus  ArrDelay  \n",
      "6717910   Late Arrival      21.0  \n",
      "6985960   Late Arrival      21.0  \n",
      "6988458  Early Arrival      -6.0  \n",
      "6989972   Late Arrival       6.0  \n"
     ]
    }
   ],
   "source": [
    "print(FlightN543US)"
   ]
  },
  {
   "cell_type": "code",
   "execution_count": 51,
   "id": "070abd27",
   "metadata": {},
   "outputs": [],
   "source": [
    "del cascadingflights\n",
    "del FlightN543US\n",
    "del highest_delay_flights\n",
    "del top3_highest_delay_flights\n",
    "del drop_columns"
   ]
  },
  {
   "cell_type": "markdown",
   "id": "53084174",
   "metadata": {},
   "source": [
    "## **QUESTION 5**"
   ]
  },
  {
   "cell_type": "markdown",
   "id": "37664625",
   "metadata": {},
   "source": [
    "Required dataframe"
   ]
  },
  {
   "cell_type": "code",
   "execution_count": 52,
   "id": "95f694a1",
   "metadata": {},
   "outputs": [],
   "source": [
    "r_df = dataset[[\"Month\",\"DayofMonth\", \"DayOfWeek\",\"DepTime\",\"CRSArrTime\",\"CRSDepTime\",\"AirTime\",\"Distance\",\"ArrDelay\"]]"
   ]
  },
  {
   "cell_type": "markdown",
   "id": "d8a2be6b",
   "metadata": {},
   "source": [
    "Setting delayed status"
   ]
  },
  {
   "cell_type": "code",
   "execution_count": 53,
   "id": "434ab79e",
   "metadata": {},
   "outputs": [
    {
     "name": "stderr",
     "output_type": "stream",
     "text": [
      "C:\\Users\\limzy\\AppData\\Local\\Temp\\ipykernel_7152\\943229584.py:4: SettingWithCopyWarning: \n",
      "A value is trying to be set on a copy of a slice from a DataFrame.\n",
      "Try using .loc[row_indexer,col_indexer] = value instead\n",
      "\n",
      "See the caveats in the documentation: https://pandas.pydata.org/pandas-docs/stable/user_guide/indexing.html#returning-a-view-versus-a-copy\n",
      "  r_df['DelayedStatus']=np.select(delayed_conditions,delayed_values)\n",
      "C:\\Users\\limzy\\AppData\\Local\\Temp\\ipykernel_7152\\943229584.py:8: SettingWithCopyWarning: \n",
      "A value is trying to be set on a copy of a slice from a DataFrame\n",
      "\n",
      "See the caveats in the documentation: https://pandas.pydata.org/pandas-docs/stable/user_guide/indexing.html#returning-a-view-versus-a-copy\n",
      "  r_df.drop(columns=drop_columns,inplace=True)\n"
     ]
    }
   ],
   "source": [
    "delayed_conditions = [(r_df.ArrDelay <= 0),\n",
    "                  (r_df.ArrDelay  > 0)]\n",
    "delayed_values=['Not Delayed','Delayed']        \n",
    "r_df['DelayedStatus']=np.select(delayed_conditions,delayed_values)\n",
    "\n",
    "drop_columns=['ArrDelay']\n",
    "\n",
    "r_df.drop(columns=drop_columns,inplace=True)"
   ]
  },
  {
   "cell_type": "markdown",
   "id": "efd19339",
   "metadata": {},
   "source": [
    "Changing numeric variables to lowest possbile intger type"
   ]
  },
  {
   "cell_type": "code",
   "execution_count": 54,
   "id": "5d3b2e07",
   "metadata": {},
   "outputs": [
    {
     "name": "stderr",
     "output_type": "stream",
     "text": [
      "C:\\Users\\limzy\\AppData\\Local\\Temp\\ipykernel_7152\\3201392081.py:1: SettingWithCopyWarning: \n",
      "A value is trying to be set on a copy of a slice from a DataFrame.\n",
      "Try using .loc[row_indexer,col_indexer] = value instead\n",
      "\n",
      "See the caveats in the documentation: https://pandas.pydata.org/pandas-docs/stable/user_guide/indexing.html#returning-a-view-versus-a-copy\n",
      "  r_df.Month=pd.to_numeric(r_df.Month,downcast='integer')\n",
      "C:\\Users\\limzy\\AppData\\Local\\Temp\\ipykernel_7152\\3201392081.py:2: SettingWithCopyWarning: \n",
      "A value is trying to be set on a copy of a slice from a DataFrame.\n",
      "Try using .loc[row_indexer,col_indexer] = value instead\n",
      "\n",
      "See the caveats in the documentation: https://pandas.pydata.org/pandas-docs/stable/user_guide/indexing.html#returning-a-view-versus-a-copy\n",
      "  r_df.DayofMonth=pd.to_numeric(r_df.DayofMonth,downcast='integer')\n",
      "C:\\Users\\limzy\\AppData\\Local\\Temp\\ipykernel_7152\\3201392081.py:3: SettingWithCopyWarning: \n",
      "A value is trying to be set on a copy of a slice from a DataFrame.\n",
      "Try using .loc[row_indexer,col_indexer] = value instead\n",
      "\n",
      "See the caveats in the documentation: https://pandas.pydata.org/pandas-docs/stable/user_guide/indexing.html#returning-a-view-versus-a-copy\n",
      "  r_df.DayOfWeek=pd.to_numeric(r_df.DayOfWeek,downcast='integer')\n",
      "C:\\Users\\limzy\\AppData\\Local\\Temp\\ipykernel_7152\\3201392081.py:4: SettingWithCopyWarning: \n",
      "A value is trying to be set on a copy of a slice from a DataFrame.\n",
      "Try using .loc[row_indexer,col_indexer] = value instead\n",
      "\n",
      "See the caveats in the documentation: https://pandas.pydata.org/pandas-docs/stable/user_guide/indexing.html#returning-a-view-versus-a-copy\n",
      "  r_df.DepTime=pd.to_numeric(r_df.DepTime,downcast='integer')\n",
      "C:\\Users\\limzy\\AppData\\Local\\Temp\\ipykernel_7152\\3201392081.py:5: SettingWithCopyWarning: \n",
      "A value is trying to be set on a copy of a slice from a DataFrame.\n",
      "Try using .loc[row_indexer,col_indexer] = value instead\n",
      "\n",
      "See the caveats in the documentation: https://pandas.pydata.org/pandas-docs/stable/user_guide/indexing.html#returning-a-view-versus-a-copy\n",
      "  r_df.CRSArrTime=pd.to_numeric(r_df.CRSArrTime,downcast='integer')\n",
      "C:\\Users\\limzy\\AppData\\Local\\Temp\\ipykernel_7152\\3201392081.py:6: SettingWithCopyWarning: \n",
      "A value is trying to be set on a copy of a slice from a DataFrame.\n",
      "Try using .loc[row_indexer,col_indexer] = value instead\n",
      "\n",
      "See the caveats in the documentation: https://pandas.pydata.org/pandas-docs/stable/user_guide/indexing.html#returning-a-view-versus-a-copy\n",
      "  r_df.CRSDepTime=pd.to_numeric(r_df.CRSDepTime,downcast='integer')\n",
      "C:\\Users\\limzy\\AppData\\Local\\Temp\\ipykernel_7152\\3201392081.py:7: SettingWithCopyWarning: \n",
      "A value is trying to be set on a copy of a slice from a DataFrame.\n",
      "Try using .loc[row_indexer,col_indexer] = value instead\n",
      "\n",
      "See the caveats in the documentation: https://pandas.pydata.org/pandas-docs/stable/user_guide/indexing.html#returning-a-view-versus-a-copy\n",
      "  r_df.AirTime=pd.to_numeric(r_df.AirTime,downcast='integer')\n",
      "C:\\Users\\limzy\\AppData\\Local\\Temp\\ipykernel_7152\\3201392081.py:8: SettingWithCopyWarning: \n",
      "A value is trying to be set on a copy of a slice from a DataFrame.\n",
      "Try using .loc[row_indexer,col_indexer] = value instead\n",
      "\n",
      "See the caveats in the documentation: https://pandas.pydata.org/pandas-docs/stable/user_guide/indexing.html#returning-a-view-versus-a-copy\n",
      "  r_df.Distance=pd.to_numeric(r_df.Distance,downcast='integer')\n"
     ]
    },
    {
     "data": {
      "text/plain": [
       "Month              int8\n",
       "DayofMonth         int8\n",
       "DayOfWeek          int8\n",
       "DepTime           int16\n",
       "CRSArrTime        int16\n",
       "CRSDepTime        int16\n",
       "AirTime           int16\n",
       "Distance          int16\n",
       "DelayedStatus    object\n",
       "dtype: object"
      ]
     },
     "execution_count": 54,
     "metadata": {},
     "output_type": "execute_result"
    }
   ],
   "source": [
    "r_df.Month=pd.to_numeric(r_df.Month,downcast='integer')\n",
    "r_df.DayofMonth=pd.to_numeric(r_df.DayofMonth,downcast='integer')\n",
    "r_df.DayOfWeek=pd.to_numeric(r_df.DayOfWeek,downcast='integer')\n",
    "r_df.DepTime=pd.to_numeric(r_df.DepTime,downcast='integer')\n",
    "r_df.CRSArrTime=pd.to_numeric(r_df.CRSArrTime,downcast='integer')\n",
    "r_df.CRSDepTime=pd.to_numeric(r_df.CRSDepTime,downcast='integer')\n",
    "r_df.AirTime=pd.to_numeric(r_df.AirTime,downcast='integer')\n",
    "r_df.Distance=pd.to_numeric(r_df.Distance,downcast='integer')\n",
    "r_df.dtypes"
   ]
  },
  {
   "cell_type": "markdown",
   "id": "56ded911",
   "metadata": {},
   "source": [
    "### Build Machine Learning Model 20/80"
   ]
  },
  {
   "cell_type": "code",
   "execution_count": 55,
   "id": "0aa96758",
   "metadata": {},
   "outputs": [
    {
     "data": {
      "text/plain": [
       "0.7334923740450892"
      ]
     },
     "execution_count": 55,
     "metadata": {},
     "output_type": "execute_result"
    }
   ],
   "source": [
    "from sklearn.tree import DecisionTreeClassifier\n",
    "from sklearn.model_selection import train_test_split\n",
    "from sklearn.metrics import accuracy_score\n",
    "\n",
    "X = r_df.drop(columns=['DelayedStatus'])\n",
    "y = r_df['DelayedStatus']\n",
    "X_train, X_test, y_train, y_test = train_test_split(X, y, test_size=0.2)\n",
    "\n",
    "model = DecisionTreeClassifier()\n",
    "model.fit (X_train, y_train)\n",
    "predictions = model.predict(X_test) \n",
    "\n",
    "score = accuracy_score(y_test, predictions)\n",
    "score"
   ]
  },
  {
   "cell_type": "markdown",
   "id": "cdbc9f97",
   "metadata": {},
   "source": [
    "# End of 2005"
   ]
  }
 ],
 "metadata": {
  "kernelspec": {
   "display_name": "Python 3 (ipykernel)",
   "language": "python",
   "name": "python3"
  },
  "language_info": {
   "codemirror_mode": {
    "name": "ipython",
    "version": 3
   },
   "file_extension": ".py",
   "mimetype": "text/x-python",
   "name": "python",
   "nbconvert_exporter": "python",
   "pygments_lexer": "ipython3",
   "version": "3.8.13"
  }
 },
 "nbformat": 4,
 "nbformat_minor": 5
}
